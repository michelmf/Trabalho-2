{
 "cells": [
  {
   "cell_type": "markdown",
   "metadata": {},
   "source": [
    "# Técnicas de amostragem\n",
    "\n",
    "Prof: Douglas O. Cardoso\n",
    "\n",
    "Alunos:\n",
    "\n",
    "* Karina Brandão\n",
    "* Michel Ferreira\n",
    "* Rodrigo Hamacher"
   ]
  },
  {
   "cell_type": "markdown",
   "metadata": {},
   "source": [
    "## 1. Ponto de partida\n",
    "\n",
    "Antes de aplicarmos técnicas para a amostragem de redes complexas, primeiramente deve-se ter em mente os objetivos da amostragem, e como mensurar se de fato aquela amostragem representa minimamente as características originais da rede em questão. No artigo de Leskovec e Faloutsos[2], algumas questões sobre a amostragem de grafos são levantadas, tais como:\n",
    "\n",
    "* O que é um bom método de amostragem?\n",
    "* Como a amostragem deve ser realizada? Amostrando nós, arestas, ou outra estratégias?\n",
    "* Qual tamanho é uma boa amostra (nós/arestas)?\n",
    "* Como devem ser avaliados os parâmetros obtidos da amostragem? \n",
    "* Quais características/features de redes complexas devem ser avaliadas para se considerar que uma amostragem satisfatória foi realizada?\n",
    "\n",
    "De forma resumida, diversos algoritmos em datasets reais foram avaliados e medidas de redes propostas em [2]. Das conclusões obtidas pelos autores, métodos baseados em caminhos aleatórios mostraram resultados melhores que outras estratégias no caso de redes \"estáticas\". Os estudos foram realizados considerando grafos direcionados. Para a demonstração das técnicas de amostragem, será utilizado o pacote *little ball of fur* [1]."
   ]
  },
  {
   "cell_type": "markdown",
   "metadata": {},
   "source": [
    "## 2. Artigo Selecionado\n",
    "\n",
    "Para a aplicação das técnicas e reprodução de experimentos, foi escolhido o artigo de Rezvanian e Meybodi denominado \"Sampling social networks using shortest paths\" [3]. Neste artigo, um método de amostragem baseado no conceito de caminho mínimo é utilizado para a amostragem de redes complexas, com foco em redes sociais.\n",
    "\n",
    "No artigo selecionado, as seguintes técnicas são exploradas e comparadas com a nova técnica:\n",
    "\n",
    "* Random Edge Sampling (RES)\n",
    "* Random Node Sampling (RNS)\n",
    "* Random Walking Sampling (RWS)\n",
    "* Metropolis-Hasting Random Walk Sampling (MHRW)\n",
    "* Distributed Learning Automata Based Sampling (DLAS)"
   ]
  },
  {
   "cell_type": "markdown",
   "metadata": {},
   "source": [
    "## 3. Descrição do Algoritmo SSP\n",
    "\n",
    "Como descrito no artigoo algoritmo proposto SSP utiliza o conceito de caminhos mínimos para a amostragem da rede. Considerando um grafo $G(V,E)$ composto por um conjunto $V = \\{v_1, v_2, \\dots, v_n\\}$ de nós e $E = \\{e_1, e_2, \\dots, e_m\\}$ de arestas, o algoritmo SSP calcula o caminho mínimo $\\pi$ entre $l$ nós não adjacentes. Em uma iteração $i$, dois nós não adjacentes $v_s$ (nó de origem) e $v_d$ (nó de destino) são escolhidos aleatoriamente, e o menor caminho $\\pi_i$ é calculado para tal par de nós. Após as $l$ rodadas, é realizado um ranqueamento dos nós mais acessadas durante o procedimento, e a amostragem é baseada utilizando uma porcentagem dos nós mais visitadas durante o procedimento de busca pelos caminhos mais curtos.\n",
    "\n",
    "O pseudocódigo, como descrito no artigo [3], é mostrado abaixo. A implementação dessa técnica de amostragem é encontrada em [1]. A quantidade de nós a se considerar na amostragem é passada como argumento para a instanciação da classe do Sampler no pacote Little Ball of Fur [4].\n",
    "\n",
    "<img src=\"../img/algorithm1.png\" alt=\"\" title=\"Pseudocódigo SSP - Retirado de [3]\" width=\"800\"/>\n",
    "\n",
    "Experimentos de outros pesquisadores mostraram a importância dos caminhos mais curtos em redes de colaboração científica, onde o caminho mais curto entre dois cientistas possui em média 64% dos casos um colaborador/cientista considerado como *top-ranked*. Outras situações mostradas no artigo evidenciam que mensagens entre redes sociais se propagam mais rapidamente e verifica-se o conceito de caminho mais curto.\n",
    "\n",
    "De forma geral, o algoritmo SSP é de simples entendimento, pois se baseia em conceitos básicos da teoria de grafos, como a busca pelo caminho mais curto. Porém, algumas perguntas e hipóteses são levantadas e investigadas no artigo, como por exemplo:\n",
    "\n",
    "\n",
    "* Qual a porcentagem de caminhos mínimos necessária a ser explorada para que seja atendida uma taxa de amostragem específica?\n",
    "* Qual o melhor mecanismo para a escolha dos nós iniciais e finais do algoritmo? Devemos escolher os nós baseado em alguma característica específica do mesmo (centralidade, grau, etc)?\n",
    "* Deve existir um tamanho de caminho mínimo entre os nós para que tal caminho seja considerado pelo processo de amostragem?\n",
    "* Caso um valor mínimo para a distância entre os nós de início e fim seja estabelecido, qual o impacto desse valor na capacidade de amostragem da rede?"
   ]
  },
  {
   "cell_type": "markdown",
   "metadata": {},
   "source": [
    "## 4. Reprodução dos experimentos\n",
    "\n",
    "No artigo, cinco experimentos foram conduzidos para avaliar a performance do algoritmos proposto, utilizando tanto conjuntos de dados reais quanto redes sintéticas. O algoritmo SSP foi comparado com os algoritmos descritos anteriormente. De forma sucinta, os experimentos são descritos abaixo\n",
    "\n",
    "* Experimento 1: O primeiro experimento consiste em verificar qual a porcentagem dos caminhos mínimos deviam ser percorridos para que a quantidade mínima de nós definida pela taxa de amostragem fosse atingida. Como esse experimento demanda investigar e utilizar o código do algoritmo de certa forma, não foi explorado. </br>\n",
    "\n",
    "* Experimento 2: O segundo experimento verifica como a distorção entre as distribuições de graus e caminhos mínimos são reproduzidas a partir das redes amostradas. Somente a distribuição dos nós foi executada nesse notebook.</br>\n",
    "\n",
    "* Experimento 3: O experimento realiza a verificação da escolha dos nós iniciais para a verificação do caminho mínimo do algoritmo do SSP. Questões como a escolha aleatória ou direcionada dos nós, tamanho mínimo de caminho para aceitação e outras medidas de redes para auxiliar na escolha dos nós é discutida e analisada.\n",
    "\n",
    "* Experimento 4: Qual o impacto na distribuição das características do grafo quando definimos um tamanho específico de \n",
    "\n",
    "* Experimento 5: Qual o impacto da taxa de amostragem nos parâmetros das redes amostradas? "
   ]
  },
  {
   "cell_type": "markdown",
   "metadata": {},
   "source": [
    "\n",
    "Os seguintes conjuntos de dados foram utilizados para a comparação entre os diversos métodos de amostragem:\n",
    "\n",
    "| Network      \t| Nós   \t| Arestas  \t|\n",
    "|--------------\t|-------\t|----------\t|\n",
    "| Karate       \t| 34    \t| 78       \t|\n",
    "| Football     \t| 115   \t| 613      \t|\n",
    "| Email        \t| 1133  \t| 5451     \t|\n",
    "| Jazz         \t| 1198  \t| 2742     \t|\n",
    "| Cit-HepTh    \t| 27770 \t| 352807   \t|\n",
    "| Ego-Facebook \t| 4039  \t| 88234    \t|\n",
    "| Wiki-Vote    \t| 7115  \t| 103689   \t|\n",
    "| ER-10000     \t| 10000 \t| 19990294 \t|\n",
    "| WS-10000     \t| 10000 \t| 123942   \t|\n",
    "| BA-10000     \t| 10000 \t| 99945    \t|\n",
    "\n",
    "Para as redes simuladas citadas anteriomente, os seguintes parâmetros foram utilizados:\n",
    "\n",
    "* ER-10000 (Erdos-Rényi) - N = 10.000 e p = 0.2\n",
    "* WS-10000 (Watts-Strogatz) - N = 10.000, k = 4 e p = 0.2\n",
    "* BA-10000 (Barabási-Albert) - N = 10.000, $m_0 = m = 5$\n",
    "\n",
    "Infelizmente, nem todas as redes conseguimos executar por motivos de leitura dos arquivos e/outros que não solucionamos."
   ]
  },
  {
   "cell_type": "markdown",
   "metadata": {},
   "source": [
    "\n",
    "### 5 Simulações dos experimentos"
   ]
  },
  {
   "cell_type": "code",
   "execution_count": 345,
   "metadata": {},
   "outputs": [],
   "source": [
    "# Pacotes utilizados\n",
    "import numpy as np\n",
    "import pandas as pd\n",
    "import networkx as nx\n",
    "import scipy.stats as stats\n",
    "import plotly.express as px\n",
    "import littleballoffur as lbf"
   ]
  },
  {
   "cell_type": "code",
   "execution_count": 302,
   "metadata": {},
   "outputs": [],
   "source": [
    "# Networks\n",
    "karate     = nx.karate_club_graph() # Karate Club dataset\n",
    "jazz       = nx.read_edgelist(\"../datasets/out.arenas-jazz\", create_using = nx.Graph(), nodetype = int) # Jazz Club\n",
    "wiki_vote  = nx.read_adjlist('../datasets/wiki-vote.txt')\n",
    "email      = nx.read_edgelist('../datasets/email-univ.edges')\n",
    "facebook   = nx.read_adjlist('../datasets/face.edges')\n",
    "cit_hepth  = nx.read_adjlist('../datasets/cit-hepth.txt')\n",
    "\n",
    "# Leitura do dataset football\n",
    "football_file = open('../datasets/football.gml', 'r').read()\n",
    "football  = nx.parse_gml(football_file.split('\\n'))"
   ]
  },
  {
   "cell_type": "code",
   "execution_count": 369,
   "metadata": {},
   "outputs": [],
   "source": [
    "# Lista de redes\n",
    "dataset_list  = [karate, jazz, \n",
    "                #wiki_vote, \n",
    "                email, \n",
    "                facebook, \n",
    "                #cit_hepth, \n",
    "                football]\n",
    "                \n",
    "dataset_names = ['karate', 'jazz', \n",
    "                #'wiki', \n",
    "                'email', \n",
    "                'facebook', \n",
    "                #'cit_hepth', \n",
    "                'football']"
   ]
  },
  {
   "cell_type": "markdown",
   "metadata": {},
   "source": [
    "## Experimento I\n",
    "\n",
    "O primeiro experimento aqui reproduzido corresponde ao experimento II do artigo, onde o objetivo é verificar a performance do SSP em relação aos outros métodos de amostragem descritos anteriormente. Para duas taxas de amostragem fixadas, 10% e 20%, é realizado um teste KS para a verificação da discrepância entre a distribuição cumulativa do grau dos nós para a rede original e a rede amostrada. Para distribuições discrepantes ou não similares, temos um valor de KS próximo de 1, e próximo a 0 quanto mais similares forem."
   ]
  },
  {
   "cell_type": "code",
   "execution_count": 374,
   "metadata": {},
   "outputs": [],
   "source": [
    "def run_ks_degree_distribution_experiment(sampling_rate: float, \n",
    "                                          sampling_technique, \n",
    "                                          trials: int = 50) -> dict:\n",
    "\n",
    "    results_sampling = dict()\n",
    "\n",
    "    # Loop para a realização dos cálculos de divergência KS\n",
    "    for dataset, network in zip(dataset_names, dataset_list):\n",
    "\n",
    "        # Lista com resultados das divergências KS\n",
    "        ks_results = list()\n",
    "\n",
    "        # Distribuição da probabilidade dos graus graus de uma determinada rede\n",
    "        degree_distribution_graph = np.cumsum(nx.degree_histogram(network)/np.sum(nx.degree_histogram(network)))\n",
    "        \n",
    "        # Como descrito no artigo, os valores são resultados dos experimentos \n",
    "        # com 50 execuções\n",
    "        for trial in range(trials):\n",
    "            # Amostragem das redes utilizando SSP\n",
    "            sampler = sampling_technique(int(sampling_rate * len(network.nodes())), seed=trial)\n",
    "            network = nx.convert_node_labels_to_integers(network) # Para funcionamento do sampler\n",
    "            sampled_network = sampler.sample(network)\n",
    "\n",
    "            # Distribuição dos graus para a rede amostrada \n",
    "            degree_distribution_sampled_graph = np.cumsum(nx.degree_histogram(sampled_network) / \\\n",
    "                                                np.sum(nx.degree_histogram(sampled_network)))\n",
    "\n",
    "            # Comparação entre as duas distribuições\n",
    "            ks_value = stats.kstest(degree_distribution_graph, \n",
    "                                    degree_distribution_sampled_graph)\n",
    "\n",
    "            ks_results.append(ks_value.statistic)\n",
    "\n",
    "        \n",
    "        # Armazenamento do resultado para as redes\n",
    "        results_sampling[dataset] = np.mean(ks_results)\n",
    "         \n",
    "    return results_sampling"
   ]
  },
  {
   "cell_type": "code",
   "execution_count": 375,
   "metadata": {},
   "outputs": [],
   "source": [
    "# lista de técnicas utilizadas:\n",
    "samplers = [lbf.RandomEdgeSampler,\n",
    "            lbf.RandomNodeSampler,\n",
    "            lbf.RandomWalkSampler,\n",
    "            lbf.MetropolisHastingsRandomWalkSampler,\n",
    "            lbf.ShortestPathSampler]\n",
    "\n",
    "# Nomes das técnicas\n",
    "samplers_name = ['RES', 'RNS', 'RWS', 'MHRW', 'SSP']\n",
    "\n",
    "# Armazenamento dos resultados e laço\n",
    "results_from_sampler_10 = dict()\n",
    "results_from_sampler_20 = dict()\n",
    "\n",
    "for sampler_name, sampler in zip(samplers_name, samplers):\n",
    "    results_from_sampler_10[sampler_name] = run_ks_degree_distribution_experiment(sampling_rate=0.1, sampling_technique=sampler)\n",
    "    results_from_sampler_20[sampler_name] = run_ks_degree_distribution_experiment(sampling_rate=0.2, sampling_technique=sampler) \n"
   ]
  },
  {
   "cell_type": "code",
   "execution_count": 376,
   "metadata": {},
   "outputs": [
    {
     "data": {
      "text/html": [
       "<div>\n",
       "<style scoped>\n",
       "    .dataframe tbody tr th:only-of-type {\n",
       "        vertical-align: middle;\n",
       "    }\n",
       "\n",
       "    .dataframe tbody tr th {\n",
       "        vertical-align: top;\n",
       "    }\n",
       "\n",
       "    .dataframe thead th {\n",
       "        text-align: right;\n",
       "    }\n",
       "</style>\n",
       "<table border=\"1\" class=\"dataframe\">\n",
       "  <thead>\n",
       "    <tr style=\"text-align: right;\">\n",
       "      <th></th>\n",
       "      <th>RES</th>\n",
       "      <th>RNS</th>\n",
       "      <th>RWS</th>\n",
       "      <th>MHRW</th>\n",
       "      <th>SSP</th>\n",
       "    </tr>\n",
       "  </thead>\n",
       "  <tbody>\n",
       "    <tr>\n",
       "      <th>karate</th>\n",
       "      <td>0.421111</td>\n",
       "      <td>0.734444</td>\n",
       "      <td>0.487778</td>\n",
       "      <td>0.497778</td>\n",
       "      <td>0.444444</td>\n",
       "    </tr>\n",
       "    <tr>\n",
       "      <th>jazz</th>\n",
       "      <td>0.306089</td>\n",
       "      <td>0.342098</td>\n",
       "      <td>0.411382</td>\n",
       "      <td>0.411377</td>\n",
       "      <td>0.370353</td>\n",
       "    </tr>\n",
       "    <tr>\n",
       "      <th>email</th>\n",
       "      <td>0.238500</td>\n",
       "      <td>0.299960</td>\n",
       "      <td>0.384778</td>\n",
       "      <td>0.378147</td>\n",
       "      <td>0.379717</td>\n",
       "    </tr>\n",
       "    <tr>\n",
       "      <th>facebook</th>\n",
       "      <td>0.924780</td>\n",
       "      <td>0.974748</td>\n",
       "      <td>0.987970</td>\n",
       "      <td>0.987729</td>\n",
       "      <td>0.982041</td>\n",
       "    </tr>\n",
       "    <tr>\n",
       "      <th>football</th>\n",
       "      <td>0.561795</td>\n",
       "      <td>0.820000</td>\n",
       "      <td>0.556093</td>\n",
       "      <td>0.560712</td>\n",
       "      <td>0.616385</td>\n",
       "    </tr>\n",
       "  </tbody>\n",
       "</table>\n",
       "</div>"
      ],
      "text/plain": [
       "               RES       RNS       RWS      MHRW       SSP\n",
       "karate    0.421111  0.734444  0.487778  0.497778  0.444444\n",
       "jazz      0.306089  0.342098  0.411382  0.411377  0.370353\n",
       "email     0.238500  0.299960  0.384778  0.378147  0.379717\n",
       "facebook  0.924780  0.974748  0.987970  0.987729  0.982041\n",
       "football  0.561795  0.820000  0.556093  0.560712  0.616385"
      ]
     },
     "execution_count": 376,
     "metadata": {},
     "output_type": "execute_result"
    }
   ],
   "source": [
    "# Valores das médias para os datasets disponíveis e porcentagem de amostragem igual a 10\n",
    "pd.DataFrame.from_dict(results_from_sampler_10)"
   ]
  },
  {
   "cell_type": "code",
   "execution_count": 377,
   "metadata": {},
   "outputs": [
    {
     "data": {
      "text/html": [
       "<div>\n",
       "<style scoped>\n",
       "    .dataframe tbody tr th:only-of-type {\n",
       "        vertical-align: middle;\n",
       "    }\n",
       "\n",
       "    .dataframe tbody tr th {\n",
       "        vertical-align: top;\n",
       "    }\n",
       "\n",
       "    .dataframe thead th {\n",
       "        text-align: right;\n",
       "    }\n",
       "</style>\n",
       "<table border=\"1\" class=\"dataframe\">\n",
       "  <thead>\n",
       "    <tr style=\"text-align: right;\">\n",
       "      <th></th>\n",
       "      <th>RES</th>\n",
       "      <th>RNS</th>\n",
       "      <th>RWS</th>\n",
       "      <th>MHRW</th>\n",
       "      <th>SSP</th>\n",
       "    </tr>\n",
       "  </thead>\n",
       "  <tbody>\n",
       "    <tr>\n",
       "      <th>karate</th>\n",
       "      <td>0.321556</td>\n",
       "      <td>0.539000</td>\n",
       "      <td>0.533222</td>\n",
       "      <td>0.547667</td>\n",
       "      <td>0.494778</td>\n",
       "    </tr>\n",
       "    <tr>\n",
       "      <th>jazz</th>\n",
       "      <td>0.232046</td>\n",
       "      <td>0.347206</td>\n",
       "      <td>0.383334</td>\n",
       "      <td>0.378322</td>\n",
       "      <td>0.369638</td>\n",
       "    </tr>\n",
       "    <tr>\n",
       "      <th>email</th>\n",
       "      <td>0.192889</td>\n",
       "      <td>0.274086</td>\n",
       "      <td>0.320416</td>\n",
       "      <td>0.331379</td>\n",
       "      <td>0.328767</td>\n",
       "    </tr>\n",
       "    <tr>\n",
       "      <th>facebook</th>\n",
       "      <td>0.818346</td>\n",
       "      <td>0.811190</td>\n",
       "      <td>0.800949</td>\n",
       "      <td>0.823913</td>\n",
       "      <td>0.882744</td>\n",
       "    </tr>\n",
       "    <tr>\n",
       "      <th>football</th>\n",
       "      <td>0.571513</td>\n",
       "      <td>0.736604</td>\n",
       "      <td>0.550969</td>\n",
       "      <td>0.558085</td>\n",
       "      <td>0.589632</td>\n",
       "    </tr>\n",
       "  </tbody>\n",
       "</table>\n",
       "</div>"
      ],
      "text/plain": [
       "               RES       RNS       RWS      MHRW       SSP\n",
       "karate    0.321556  0.539000  0.533222  0.547667  0.494778\n",
       "jazz      0.232046  0.347206  0.383334  0.378322  0.369638\n",
       "email     0.192889  0.274086  0.320416  0.331379  0.328767\n",
       "facebook  0.818346  0.811190  0.800949  0.823913  0.882744\n",
       "football  0.571513  0.736604  0.550969  0.558085  0.589632"
      ]
     },
     "execution_count": 377,
     "metadata": {},
     "output_type": "execute_result"
    }
   ],
   "source": [
    "# Valores das médias para os datasets disponíveis e porcentagem de amostragem igual a 20\n",
    "pd.DataFrame.from_dict(results_from_sampler_20)"
   ]
  },
  {
   "cell_type": "markdown",
   "metadata": {},
   "source": [
    "O esperado, de acordo com os dados do artigo, eram valores de KS em SSP menores que os das outras redes. O que foi visto experimentalmente é que não há melhora da representação da distribuição de graus das redex complexas, pois a distorção obtidas por outras redes é menor em todos os casos, para as duas taxas de amostragens testadas."
   ]
  },
  {
   "cell_type": "markdown",
   "metadata": {},
   "source": [
    "## Experimento II\n",
    "\n",
    "O Experimento II (no artigo, experimento V) se dedica a entender o impacto da taxa de amostragem da rede na métrica *Normalized Root Mean Square Error*. A métrica NMSE é definida como $ NMSE = \\frac{\\sqrt{(E|\\theta - \\theta_s|)^2}}{\\theta} $, onde $\\theta$ e $\\theta_s$ são os valores dos parâmetros originais da rede, e das redes amostradas. No caso, a comparação é realizada utilizando o coeficiente de clusterização de cada rede. Espera-se que, com o aumento da taxa de amostragem, tenhamos redes mais fiéis às originais, e tal métrica diminua com o aumento da amostragem."
   ]
  },
  {
   "cell_type": "code",
   "execution_count": 329,
   "metadata": {},
   "outputs": [],
   "source": [
    "def run_nmse_experiment(network,\n",
    "                        sampling_rate: float,\n",
    "                        trials: int = 50) -> list:\n",
    "\n",
    "    # Coeficiente de clusterização\n",
    "    clustering_average = nx.average_clustering(network)\n",
    "    clustering_values = list()\n",
    "\n",
    "    for trial in range(trials):\n",
    "        sampler = lbf.ShortestPathSampler(number_of_nodes=int(len(network.nodes())*sampling_rate), seed=trial)\n",
    "        network = nx.convert_node_labels_to_integers(network)\n",
    "        sampled_graph = sampler.sample(network)\n",
    "        clustering_values.append(nx.average_clustering(sampled_graph))\n",
    "\n",
    "    # Cálculo nmse\n",
    "    nmse = np.sqrt(np.linalg.norm(clustering_average - np.array(clustering_values))/len(clustering_values))/clustering_average\n",
    "\n",
    "    return nmse"
   ]
  },
  {
   "cell_type": "code",
   "execution_count": 346,
   "metadata": {},
   "outputs": [],
   "source": [
    "# Execução para os datasets\n",
    "nmse_from_datasets = dict()\n",
    "\n",
    "for network, network_name in zip(dataset_list, dataset_names):\n",
    "    nmse_list = list()\n",
    "    for sampling_rate in range(5, 100, 5):\n",
    "         nmse_list.append(run_nmse_experiment(network, sampling_rate/100))\n",
    "\n",
    "    nmse_from_datasets[network_name] = nmse_list\n"
   ]
  },
  {
   "cell_type": "code",
   "execution_count": 347,
   "metadata": {},
   "outputs": [
    {
     "data": {
      "application/vnd.plotly.v1+json": {
       "config": {
        "plotlyServerURL": "https://plot.ly"
       },
       "data": [
        {
         "hovertemplate": "networks=karate<br>Sampling Rate=%{x}<br>NMSE=%{y}<extra></extra>",
         "legendgroup": "karate",
         "line": {
          "color": "#636efa",
          "dash": "solid"
         },
         "marker": {
          "symbol": "circle"
         },
         "mode": "lines",
         "name": "karate",
         "orientation": "v",
         "showlegend": true,
         "type": "scatter",
         "x": [
          5,
          10,
          15,
          20,
          25,
          30,
          35,
          40,
          45,
          50,
          55,
          60,
          65,
          70,
          75,
          80,
          85,
          90,
          95
         ],
         "xaxis": "x",
         "y": [
          0.49782530959582016,
          0.49782530959582016,
          0.45255853093961407,
          0.43263818852745745,
          0.3926013525627767,
          0.3586957549569484,
          0.34871273868337727,
          0.32310579377508364,
          0.3060948808684522,
          0.2729682526229985,
          0.2640490460590507,
          0.222650067051123,
          0.20281921225476296,
          0.19239676417873722,
          0.17501960689649762,
          0.15727498261438214,
          0.1472940563868056,
          0.12479220333734253,
          0.10789452381663066
         ],
         "yaxis": "y"
        },
        {
         "hovertemplate": "networks=jazz<br>Sampling Rate=%{x}<br>NMSE=%{y}<extra></extra>",
         "legendgroup": "jazz",
         "line": {
          "color": "#EF553B",
          "dash": "solid"
         },
         "marker": {
          "symbol": "circle"
         },
         "mode": "lines",
         "name": "jazz",
         "orientation": "v",
         "showlegend": true,
         "type": "scatter",
         "x": [
          5,
          10,
          15,
          20,
          25,
          30,
          35,
          40,
          45,
          50,
          55,
          60,
          65,
          70,
          75,
          80,
          85,
          90,
          95
         ],
         "xaxis": "x",
         "y": [
          0.34912874719621423,
          0.21908008315590974,
          0.15893506349488154,
          0.14385205394315353,
          0.1267807514201975,
          0.10988707935075463,
          0.10346350837463705,
          0.09589949958375163,
          0.08898933105821784,
          0.08337132463559206,
          0.0802437029103491,
          0.07472325071255338,
          0.0714671713616799,
          0.0672804220429183,
          0.0660281530092846,
          0.06338305863099855,
          0.05782054946278163,
          0.05176679449706853,
          0.041683355444360824
         ],
         "yaxis": "y"
        },
        {
         "hovertemplate": "networks=email<br>Sampling Rate=%{x}<br>NMSE=%{y}<extra></extra>",
         "legendgroup": "email",
         "line": {
          "color": "#00cc96",
          "dash": "solid"
         },
         "marker": {
          "symbol": "circle"
         },
         "mode": "lines",
         "name": "email",
         "orientation": "v",
         "showlegend": true,
         "type": "scatter",
         "x": [
          5,
          10,
          15,
          20,
          25,
          30,
          35,
          40,
          45,
          50,
          55,
          60,
          65,
          70,
          75,
          80,
          85,
          90,
          95
         ],
         "xaxis": "x",
         "y": [
          0.5694741695605204,
          0.4588612064010504,
          0.41322726491357886,
          0.3539233631500509,
          0.31507475321359185,
          0.2877236967819808,
          0.262913967526704,
          0.23747782090494818,
          0.23121364876491568,
          0.21867237445501067,
          0.2097125896619764,
          0.19831150029425015,
          0.18102961408957932,
          0.16312052062805824,
          0.1462076258280429,
          0.12395799789535047,
          0.11109924498547491,
          0.09919864214036049,
          0.08697234787776438
         ],
         "yaxis": "y"
        },
        {
         "hovertemplate": "networks=facebook<br>Sampling Rate=%{x}<br>NMSE=%{y}<extra></extra>",
         "legendgroup": "facebook",
         "line": {
          "color": "#ab63fa",
          "dash": "solid"
         },
         "marker": {
          "symbol": "circle"
         },
         "mode": "lines",
         "name": "facebook",
         "orientation": "v",
         "showlegend": true,
         "type": "scatter",
         "x": [
          5,
          10,
          15,
          20,
          25,
          30,
          35,
          40,
          45,
          50,
          55,
          60,
          65,
          70,
          75,
          80,
          85,
          90,
          95
         ],
         "xaxis": "x",
         "y": [
          1.7234818410868467,
          1.3382601647184502,
          1.204467699626199,
          1.1035330380665236,
          1.0047476203819354,
          0.9945886594581815,
          0.9012988224587377,
          0.7934814341574896,
          0.768013354241721,
          0.740747305788761,
          0.7381519649449619,
          0.687671527044125,
          0.6631862919700928,
          0.6464424169615156,
          0.6077840770807277,
          0.548148606036823,
          0.5045905330357331,
          0.440239527172797,
          0.3696964443568929
         ],
         "yaxis": "y"
        },
        {
         "hovertemplate": "networks=football<br>Sampling Rate=%{x}<br>NMSE=%{y}<extra></extra>",
         "legendgroup": "football",
         "line": {
          "color": "#FFA15A",
          "dash": "solid"
         },
         "marker": {
          "symbol": "circle"
         },
         "mode": "lines",
         "name": "football",
         "orientation": "v",
         "showlegend": true,
         "type": "scatter",
         "x": [
          5,
          10,
          15,
          20,
          25,
          30,
          35,
          40,
          45,
          50,
          55,
          60,
          65,
          70,
          75,
          80,
          85,
          90,
          95
         ],
         "xaxis": "x",
         "y": [
          0.5833836032103008,
          0.5366578336098142,
          0.4830115448591832,
          0.4052060158008026,
          0.35337741329942707,
          0.3248014790144304,
          0.27779832998134507,
          0.2516860643739206,
          0.21885189733128602,
          0.21306272377482524,
          0.1981526340709033,
          0.18327845768850026,
          0.17332472130580995,
          0.16537427029765744,
          0.14546122577413248,
          0.13083905663176879,
          0.11741526879131875,
          0.09333596792224812,
          0.06994569185487835
         ],
         "yaxis": "y"
        }
       ],
       "layout": {
        "legend": {
         "title": {
          "text": "networks"
         },
         "tracegroupgap": 0
        },
        "template": {
         "data": {
          "bar": [
           {
            "error_x": {
             "color": "#2a3f5f"
            },
            "error_y": {
             "color": "#2a3f5f"
            },
            "marker": {
             "line": {
              "color": "#E5ECF6",
              "width": 0.5
             },
             "pattern": {
              "fillmode": "overlay",
              "size": 10,
              "solidity": 0.2
             }
            },
            "type": "bar"
           }
          ],
          "barpolar": [
           {
            "marker": {
             "line": {
              "color": "#E5ECF6",
              "width": 0.5
             },
             "pattern": {
              "fillmode": "overlay",
              "size": 10,
              "solidity": 0.2
             }
            },
            "type": "barpolar"
           }
          ],
          "carpet": [
           {
            "aaxis": {
             "endlinecolor": "#2a3f5f",
             "gridcolor": "white",
             "linecolor": "white",
             "minorgridcolor": "white",
             "startlinecolor": "#2a3f5f"
            },
            "baxis": {
             "endlinecolor": "#2a3f5f",
             "gridcolor": "white",
             "linecolor": "white",
             "minorgridcolor": "white",
             "startlinecolor": "#2a3f5f"
            },
            "type": "carpet"
           }
          ],
          "choropleth": [
           {
            "colorbar": {
             "outlinewidth": 0,
             "ticks": ""
            },
            "type": "choropleth"
           }
          ],
          "contour": [
           {
            "colorbar": {
             "outlinewidth": 0,
             "ticks": ""
            },
            "colorscale": [
             [
              0,
              "#0d0887"
             ],
             [
              0.1111111111111111,
              "#46039f"
             ],
             [
              0.2222222222222222,
              "#7201a8"
             ],
             [
              0.3333333333333333,
              "#9c179e"
             ],
             [
              0.4444444444444444,
              "#bd3786"
             ],
             [
              0.5555555555555556,
              "#d8576b"
             ],
             [
              0.6666666666666666,
              "#ed7953"
             ],
             [
              0.7777777777777778,
              "#fb9f3a"
             ],
             [
              0.8888888888888888,
              "#fdca26"
             ],
             [
              1,
              "#f0f921"
             ]
            ],
            "type": "contour"
           }
          ],
          "contourcarpet": [
           {
            "colorbar": {
             "outlinewidth": 0,
             "ticks": ""
            },
            "type": "contourcarpet"
           }
          ],
          "heatmap": [
           {
            "colorbar": {
             "outlinewidth": 0,
             "ticks": ""
            },
            "colorscale": [
             [
              0,
              "#0d0887"
             ],
             [
              0.1111111111111111,
              "#46039f"
             ],
             [
              0.2222222222222222,
              "#7201a8"
             ],
             [
              0.3333333333333333,
              "#9c179e"
             ],
             [
              0.4444444444444444,
              "#bd3786"
             ],
             [
              0.5555555555555556,
              "#d8576b"
             ],
             [
              0.6666666666666666,
              "#ed7953"
             ],
             [
              0.7777777777777778,
              "#fb9f3a"
             ],
             [
              0.8888888888888888,
              "#fdca26"
             ],
             [
              1,
              "#f0f921"
             ]
            ],
            "type": "heatmap"
           }
          ],
          "heatmapgl": [
           {
            "colorbar": {
             "outlinewidth": 0,
             "ticks": ""
            },
            "colorscale": [
             [
              0,
              "#0d0887"
             ],
             [
              0.1111111111111111,
              "#46039f"
             ],
             [
              0.2222222222222222,
              "#7201a8"
             ],
             [
              0.3333333333333333,
              "#9c179e"
             ],
             [
              0.4444444444444444,
              "#bd3786"
             ],
             [
              0.5555555555555556,
              "#d8576b"
             ],
             [
              0.6666666666666666,
              "#ed7953"
             ],
             [
              0.7777777777777778,
              "#fb9f3a"
             ],
             [
              0.8888888888888888,
              "#fdca26"
             ],
             [
              1,
              "#f0f921"
             ]
            ],
            "type": "heatmapgl"
           }
          ],
          "histogram": [
           {
            "marker": {
             "pattern": {
              "fillmode": "overlay",
              "size": 10,
              "solidity": 0.2
             }
            },
            "type": "histogram"
           }
          ],
          "histogram2d": [
           {
            "colorbar": {
             "outlinewidth": 0,
             "ticks": ""
            },
            "colorscale": [
             [
              0,
              "#0d0887"
             ],
             [
              0.1111111111111111,
              "#46039f"
             ],
             [
              0.2222222222222222,
              "#7201a8"
             ],
             [
              0.3333333333333333,
              "#9c179e"
             ],
             [
              0.4444444444444444,
              "#bd3786"
             ],
             [
              0.5555555555555556,
              "#d8576b"
             ],
             [
              0.6666666666666666,
              "#ed7953"
             ],
             [
              0.7777777777777778,
              "#fb9f3a"
             ],
             [
              0.8888888888888888,
              "#fdca26"
             ],
             [
              1,
              "#f0f921"
             ]
            ],
            "type": "histogram2d"
           }
          ],
          "histogram2dcontour": [
           {
            "colorbar": {
             "outlinewidth": 0,
             "ticks": ""
            },
            "colorscale": [
             [
              0,
              "#0d0887"
             ],
             [
              0.1111111111111111,
              "#46039f"
             ],
             [
              0.2222222222222222,
              "#7201a8"
             ],
             [
              0.3333333333333333,
              "#9c179e"
             ],
             [
              0.4444444444444444,
              "#bd3786"
             ],
             [
              0.5555555555555556,
              "#d8576b"
             ],
             [
              0.6666666666666666,
              "#ed7953"
             ],
             [
              0.7777777777777778,
              "#fb9f3a"
             ],
             [
              0.8888888888888888,
              "#fdca26"
             ],
             [
              1,
              "#f0f921"
             ]
            ],
            "type": "histogram2dcontour"
           }
          ],
          "mesh3d": [
           {
            "colorbar": {
             "outlinewidth": 0,
             "ticks": ""
            },
            "type": "mesh3d"
           }
          ],
          "parcoords": [
           {
            "line": {
             "colorbar": {
              "outlinewidth": 0,
              "ticks": ""
             }
            },
            "type": "parcoords"
           }
          ],
          "pie": [
           {
            "automargin": true,
            "type": "pie"
           }
          ],
          "scatter": [
           {
            "marker": {
             "colorbar": {
              "outlinewidth": 0,
              "ticks": ""
             }
            },
            "type": "scatter"
           }
          ],
          "scatter3d": [
           {
            "line": {
             "colorbar": {
              "outlinewidth": 0,
              "ticks": ""
             }
            },
            "marker": {
             "colorbar": {
              "outlinewidth": 0,
              "ticks": ""
             }
            },
            "type": "scatter3d"
           }
          ],
          "scattercarpet": [
           {
            "marker": {
             "colorbar": {
              "outlinewidth": 0,
              "ticks": ""
             }
            },
            "type": "scattercarpet"
           }
          ],
          "scattergeo": [
           {
            "marker": {
             "colorbar": {
              "outlinewidth": 0,
              "ticks": ""
             }
            },
            "type": "scattergeo"
           }
          ],
          "scattergl": [
           {
            "marker": {
             "colorbar": {
              "outlinewidth": 0,
              "ticks": ""
             }
            },
            "type": "scattergl"
           }
          ],
          "scattermapbox": [
           {
            "marker": {
             "colorbar": {
              "outlinewidth": 0,
              "ticks": ""
             }
            },
            "type": "scattermapbox"
           }
          ],
          "scatterpolar": [
           {
            "marker": {
             "colorbar": {
              "outlinewidth": 0,
              "ticks": ""
             }
            },
            "type": "scatterpolar"
           }
          ],
          "scatterpolargl": [
           {
            "marker": {
             "colorbar": {
              "outlinewidth": 0,
              "ticks": ""
             }
            },
            "type": "scatterpolargl"
           }
          ],
          "scatterternary": [
           {
            "marker": {
             "colorbar": {
              "outlinewidth": 0,
              "ticks": ""
             }
            },
            "type": "scatterternary"
           }
          ],
          "surface": [
           {
            "colorbar": {
             "outlinewidth": 0,
             "ticks": ""
            },
            "colorscale": [
             [
              0,
              "#0d0887"
             ],
             [
              0.1111111111111111,
              "#46039f"
             ],
             [
              0.2222222222222222,
              "#7201a8"
             ],
             [
              0.3333333333333333,
              "#9c179e"
             ],
             [
              0.4444444444444444,
              "#bd3786"
             ],
             [
              0.5555555555555556,
              "#d8576b"
             ],
             [
              0.6666666666666666,
              "#ed7953"
             ],
             [
              0.7777777777777778,
              "#fb9f3a"
             ],
             [
              0.8888888888888888,
              "#fdca26"
             ],
             [
              1,
              "#f0f921"
             ]
            ],
            "type": "surface"
           }
          ],
          "table": [
           {
            "cells": {
             "fill": {
              "color": "#EBF0F8"
             },
             "line": {
              "color": "white"
             }
            },
            "header": {
             "fill": {
              "color": "#C8D4E3"
             },
             "line": {
              "color": "white"
             }
            },
            "type": "table"
           }
          ]
         },
         "layout": {
          "annotationdefaults": {
           "arrowcolor": "#2a3f5f",
           "arrowhead": 0,
           "arrowwidth": 1
          },
          "autotypenumbers": "strict",
          "coloraxis": {
           "colorbar": {
            "outlinewidth": 0,
            "ticks": ""
           }
          },
          "colorscale": {
           "diverging": [
            [
             0,
             "#8e0152"
            ],
            [
             0.1,
             "#c51b7d"
            ],
            [
             0.2,
             "#de77ae"
            ],
            [
             0.3,
             "#f1b6da"
            ],
            [
             0.4,
             "#fde0ef"
            ],
            [
             0.5,
             "#f7f7f7"
            ],
            [
             0.6,
             "#e6f5d0"
            ],
            [
             0.7,
             "#b8e186"
            ],
            [
             0.8,
             "#7fbc41"
            ],
            [
             0.9,
             "#4d9221"
            ],
            [
             1,
             "#276419"
            ]
           ],
           "sequential": [
            [
             0,
             "#0d0887"
            ],
            [
             0.1111111111111111,
             "#46039f"
            ],
            [
             0.2222222222222222,
             "#7201a8"
            ],
            [
             0.3333333333333333,
             "#9c179e"
            ],
            [
             0.4444444444444444,
             "#bd3786"
            ],
            [
             0.5555555555555556,
             "#d8576b"
            ],
            [
             0.6666666666666666,
             "#ed7953"
            ],
            [
             0.7777777777777778,
             "#fb9f3a"
            ],
            [
             0.8888888888888888,
             "#fdca26"
            ],
            [
             1,
             "#f0f921"
            ]
           ],
           "sequentialminus": [
            [
             0,
             "#0d0887"
            ],
            [
             0.1111111111111111,
             "#46039f"
            ],
            [
             0.2222222222222222,
             "#7201a8"
            ],
            [
             0.3333333333333333,
             "#9c179e"
            ],
            [
             0.4444444444444444,
             "#bd3786"
            ],
            [
             0.5555555555555556,
             "#d8576b"
            ],
            [
             0.6666666666666666,
             "#ed7953"
            ],
            [
             0.7777777777777778,
             "#fb9f3a"
            ],
            [
             0.8888888888888888,
             "#fdca26"
            ],
            [
             1,
             "#f0f921"
            ]
           ]
          },
          "colorway": [
           "#636efa",
           "#EF553B",
           "#00cc96",
           "#ab63fa",
           "#FFA15A",
           "#19d3f3",
           "#FF6692",
           "#B6E880",
           "#FF97FF",
           "#FECB52"
          ],
          "font": {
           "color": "#2a3f5f"
          },
          "geo": {
           "bgcolor": "white",
           "lakecolor": "white",
           "landcolor": "#E5ECF6",
           "showlakes": true,
           "showland": true,
           "subunitcolor": "white"
          },
          "hoverlabel": {
           "align": "left"
          },
          "hovermode": "closest",
          "mapbox": {
           "style": "light"
          },
          "paper_bgcolor": "white",
          "plot_bgcolor": "#E5ECF6",
          "polar": {
           "angularaxis": {
            "gridcolor": "white",
            "linecolor": "white",
            "ticks": ""
           },
           "bgcolor": "#E5ECF6",
           "radialaxis": {
            "gridcolor": "white",
            "linecolor": "white",
            "ticks": ""
           }
          },
          "scene": {
           "xaxis": {
            "backgroundcolor": "#E5ECF6",
            "gridcolor": "white",
            "gridwidth": 2,
            "linecolor": "white",
            "showbackground": true,
            "ticks": "",
            "zerolinecolor": "white"
           },
           "yaxis": {
            "backgroundcolor": "#E5ECF6",
            "gridcolor": "white",
            "gridwidth": 2,
            "linecolor": "white",
            "showbackground": true,
            "ticks": "",
            "zerolinecolor": "white"
           },
           "zaxis": {
            "backgroundcolor": "#E5ECF6",
            "gridcolor": "white",
            "gridwidth": 2,
            "linecolor": "white",
            "showbackground": true,
            "ticks": "",
            "zerolinecolor": "white"
           }
          },
          "shapedefaults": {
           "line": {
            "color": "#2a3f5f"
           }
          },
          "ternary": {
           "aaxis": {
            "gridcolor": "white",
            "linecolor": "white",
            "ticks": ""
           },
           "baxis": {
            "gridcolor": "white",
            "linecolor": "white",
            "ticks": ""
           },
           "bgcolor": "#E5ECF6",
           "caxis": {
            "gridcolor": "white",
            "linecolor": "white",
            "ticks": ""
           }
          },
          "title": {
           "x": 0.05
          },
          "xaxis": {
           "automargin": true,
           "gridcolor": "white",
           "linecolor": "white",
           "ticks": "",
           "title": {
            "standoff": 15
           },
           "zerolinecolor": "white",
           "zerolinewidth": 2
          },
          "yaxis": {
           "automargin": true,
           "gridcolor": "white",
           "linecolor": "white",
           "ticks": "",
           "title": {
            "standoff": 15
           },
           "zerolinecolor": "white",
           "zerolinewidth": 2
          }
         }
        },
        "title": {
         "text": "NMSE x Sampling Rate para diferentes redes"
        },
        "xaxis": {
         "anchor": "y",
         "domain": [
          0,
          1
         ],
         "title": {
          "text": "Sampling Rate"
         }
        },
        "yaxis": {
         "anchor": "x",
         "domain": [
          0,
          1
         ],
         "title": {
          "text": "NMSE"
         }
        }
       }
      }
     },
     "metadata": {},
     "output_type": "display_data"
    }
   ],
   "source": [
    "# Gráfico \n",
    "nmse_df = pd.DataFrame.from_dict(nmse_from_datasets)\n",
    "nmse_df.index = list(range(5, 100, 5))\n",
    "\n",
    "px.line(nmse_df,\n",
    "        title='NMSE x Sampling Rate para diferentes redes',\n",
    "        labels={'value' : 'NMSE', 'index' : 'Sampling Rate', 'variable' : 'networks'})"
   ]
  },
  {
   "cell_type": "markdown",
   "metadata": {},
   "source": [
    "Como esperado, com o aumento da taxa de amostragem da rede (ou seja, da quantidade de nós considerados no SSP), mais semelhante à rede original a rede amostrada será, diminuindo assim a distorção entre os parâmetros calculados nas mesmas (no caso acima, o índice médio de clusterização do grafo). Um fato que é destacado no artigo e visto também na prática é o NMSE possuindo um altíssimo valor para redes grandes, mostrando a dificuldade da reprodutibilidade dos parâmetros para uma taxa de amostragem baixa."
   ]
  },
  {
   "cell_type": "markdown",
   "metadata": {},
   "source": [
    "## Referências\n",
    "\n",
    "[1] Little Ball of Fur: A Python Library for Graph Sampling - [Link](http://www.mlgworkshop.org/2020/papers/MLG2020_paper_9.pdf) </br>\n",
    "[2] Sampling from Large Graphs - [Link](https://cs.stanford.edu/people/jure/pubs/sampling-kdd06.pdf)</br>\n",
    "[3] Sampling social networks using shortest paths - [Link](https://www.sciencedirect.com/science/article/pii/S0378437115000321)</br>\n",
    "[4] Implementação do Algoritmo SSP - [Link](https://little-ball-of-fur.readthedocs.io/en/latest/_modules/littleballoffur/exploration_sampling/shortestpathsampler.html#ShortestPathSampler)"
   ]
  }
 ],
 "metadata": {
  "interpreter": {
   "hash": "f551e7501a7cbcd024ed0dc0014a4049c5957ad5a4d4edba4025c28399e03371"
  },
  "kernelspec": {
   "display_name": "Python 3.9.7 64-bit ('base': conda)",
   "language": "python",
   "name": "python3"
  },
  "language_info": {
   "codemirror_mode": {
    "name": "ipython",
    "version": 3
   },
   "file_extension": ".py",
   "mimetype": "text/x-python",
   "name": "python",
   "nbconvert_exporter": "python",
   "pygments_lexer": "ipython3",
   "version": "3.9.7"
  },
  "orig_nbformat": 4
 },
 "nbformat": 4,
 "nbformat_minor": 2
}
